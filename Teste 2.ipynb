{
 "cells": [
  {
   "cell_type": "code",
   "execution_count": 4,
   "metadata": {},
   "outputs": [],
   "source": [
    "from selenium import webdriver\n",
    "from selenium.webdriver.common.keys import Keys\n",
    "from selenium.webdriver.common.by import By\n",
    "from webdriver_manager.chrome import ChromeDriverManager\n",
    "from selenium.webdriver.support.select import Select\n",
    "import pyautogui\n",
    "import time\n",
    "import pandas as pd"
   ]
  },
  {
   "cell_type": "code",
   "execution_count": 65,
   "metadata": {},
   "outputs": [
    {
     "name": "stdout",
     "output_type": "stream",
     "text": [
      "\n"
     ]
    },
    {
     "name": "stderr",
     "output_type": "stream",
     "text": [
      "[WDM] - ====== WebDriver manager ======\n",
      "[WDM] - Current google-chrome version is 102.0.5005\n",
      "[WDM] - Get LATEST chromedriver version for 102.0.5005 google-chrome\n",
      "[WDM] - Driver [C:\\Users\\user\\.wdm\\drivers\\chromedriver\\win32\\102.0.5005.61\\chromedriver.exe] found in cache\n",
      "C:\\Users\\user\\AppData\\Local\\Temp\\ipykernel_17660\\3270757056.py:2: DeprecationWarning: executable_path has been deprecated, please pass in a Service object\n",
      "  driver = webdriver.Chrome(ChromeDriverManager().install())\n"
     ]
    }
   ],
   "source": [
    "# Iniciarliza o navegador e o site\n",
    "driver = webdriver.Chrome(ChromeDriverManager().install())\n",
    "driver.get('http://www.dpi.inpe.br/calcula/')\n",
    "driver.maximize_window()\n",
    "\n",
    "# Seleciona a opção de Graus decimais\n",
    "time.sleep(3)\n",
    "pyautogui.moveTo(281,256)\n",
    "pyautogui.click()\n",
    "pyautogui.moveTo(262,305)\n",
    "pyautogui.click()\n",
    "\n",
    "\n",
    "x=str(-43.82766535)\n",
    "y=str(-16.6855037)\n",
    "\n",
    "# Insere os valores de latitude e Longitude\n",
    "time.sleep(3)\n",
    "pyautogui.click(x=217, y=307)\n",
    "pyautogui.write(x)\n",
    "pyautogui.click(x=197, y=355)\n",
    "pyautogui.write(y)\n",
    "\n",
    "\n",
    "#Seleciona o datum\n",
    "pyautogui.click(x=227, y=398)\n",
    "pyautogui.moveTo(x=246, y=506) #selecionando o datum\n",
    "pyautogui.click()\n",
    "pyautogui.moveTo(x=186, y=432)\n",
    "pyautogui.click()\n",
    "\n",
    "time.sleep(1)\n",
    "pyautogui.moveTo(x=546, y=288)\n",
    "pyautogui.click()\n",
    "\n",
    "pyautogui.moveTo(x=554, y=394)\n",
    "pyautogui.click()\n",
    "\n",
    "pyautogui.moveTo(x=519, y=319)\n",
    "pyautogui.click()\n",
    "\n",
    "\n",
    "\n",
    "\n",
    "\n",
    "\n",
    "\n",
    "\n"
   ]
  },
  {
   "cell_type": "code",
   "execution_count": 69,
   "metadata": {},
   "outputs": [
    {
     "name": "stdout",
     "output_type": "stream",
     "text": [
      "None\n"
     ]
    }
   ],
   "source": [
    "driver.switch_to.default_content()\n",
    "frame = driver.find_element(By.XPATH,'/html/frameset/frameset/frameset/frameset/frame')\n",
    "driver.switch_to.frame(frame)\n",
    "\n",
    "latUTM = driver.find_element(By.XPATH,'/html/body/table[1]/tbody/tr[8]/td[2]/font/i').get_attribute('value')\n",
    "print(latUTM)"
   ]
  },
  {
   "cell_type": "code",
   "execution_count": 58,
   "metadata": {},
   "outputs": [
    {
     "name": "stdout",
     "output_type": "stream",
     "text": [
      "Point(x=519, y=319)\n"
     ]
    }
   ],
   "source": [
    "time.sleep(5)\n",
    "print(pyautogui.position())"
   ]
  }
 ],
 "metadata": {
  "interpreter": {
   "hash": "26de051ba29f2982a8de78e945f0abaf191376122a1563185a90213a26c5da77"
  },
  "kernelspec": {
   "display_name": "Python 3.10.2 64-bit",
   "language": "python",
   "name": "python3"
  },
  "language_info": {
   "codemirror_mode": {
    "name": "ipython",
    "version": 3
   },
   "file_extension": ".py",
   "mimetype": "text/x-python",
   "name": "python",
   "nbconvert_exporter": "python",
   "pygments_lexer": "ipython3",
   "version": "3.10.2"
  },
  "orig_nbformat": 4
 },
 "nbformat": 4,
 "nbformat_minor": 2
}
